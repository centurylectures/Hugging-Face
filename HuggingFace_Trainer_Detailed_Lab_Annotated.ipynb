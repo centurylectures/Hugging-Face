{
 "cells": [
  {
   "cell_type": "markdown",
   "id": "8f7762e3",
   "metadata": {},
   "source": [
    "# 🤗 Hugging Face Trainer - Detailed Training Lab\n",
    "This notebook is a comprehensive guide to using Hugging Face's `Trainer` API for training and fine-tuning transformer models. It provides detailed explanations of each component, including dataset loading, tokenization, model selection, training argument configuration, custom optimizer integration, metric evaluation, and model saving.\n"
   ]
  },
  {
   "cell_type": "markdown",
   "id": "6496a08c",
   "metadata": {},
   "source": [
    "## 📋 Overview\n",
    "We will walk through the following steps:\n",
    "1. **Load and explore a dataset**\n",
    "2. **Tokenize and preprocess the data**\n",
    "3. **Load a pre-trained model for classification**\n",
    "4. **Configure training arguments**\n",
    "5. **Customize the optimizer and learning rate scheduler**\n",
    "6. **Define the Hugging Face `Trainer`**\n",
    "7. **Train and evaluate the model**\n",
    "8. **Save the fine-tuned model**"
   ]
  },
  {
   "cell_type": "markdown",
   "id": "0cedd370",
   "metadata": {},
   "source": [
    "## 📦 Install Required Libraries\n",
    "Install Hugging Face Transformers, Datasets, and Evaluate packages."
   ]
  },
  {
   "cell_type": "code",
   "execution_count": null,
   "id": "0f235bae",
   "metadata": {},
   "outputs": [],
   "source": [
    "!pip install transformers datasets evaluate -q"
   ]
  },
  {
   "cell_type": "markdown",
   "id": "cd32b240",
   "metadata": {},
   "source": [
    "## 📚 Import Libraries\n",
    "We import all necessary components from the Transformers and Datasets libraries."
   ]
  },
  {
   "cell_type": "code",
   "execution_count": null,
   "id": "203500e6",
   "metadata": {},
   "outputs": [],
   "source": [
    "from transformers import AutoTokenizer, AutoModelForSequenceClassification, Trainer, TrainingArguments\n",
    "from transformers import AdamW, get_scheduler\n",
    "from datasets import load_dataset\n",
    "import evaluate\n",
    "import torch\n",
    "import numpy as np"
   ]
  },
  {
   "cell_type": "markdown",
   "id": "ee158630",
   "metadata": {},
   "source": [
    "## 🗂️ Load and Explore the Dataset\n",
    "We use the IMDb dataset, which is a binary sentiment classification dataset (positive/negative reviews)."
   ]
  },
  {
   "cell_type": "code",
   "execution_count": null,
   "id": "793796e4",
   "metadata": {},
   "outputs": [],
   "source": [
    "dataset = load_dataset(\"imdb\")\n",
    "dataset = dataset.shuffle(seed=42)\n",
    "dataset['train'][0]"
   ]
  },
  {
   "cell_type": "markdown",
   "id": "7e0d3510",
   "metadata": {},
   "source": [
    "## ✂️ Tokenize the Dataset\n",
    "We use a tokenizer corresponding to a pre-trained transformer model to tokenize the raw text data. Tokenization is essential to convert text into input IDs and attention masks suitable for transformers."
   ]
  },
  {
   "cell_type": "code",
   "execution_count": null,
   "id": "2b0ccdf7",
   "metadata": {},
   "outputs": [],
   "source": [
    "checkpoint = \"distilbert-base-uncased\"\n",
    "tokenizer = AutoTokenizer.from_pretrained(checkpoint)\n",
    "\n",
    "def tokenize_function(example):\n",
    "    return tokenizer(example[\"text\"], truncation=True)\n",
    "\n",
    "tokenized_datasets = dataset.map(tokenize_function, batched=True)\n",
    "tokenized_datasets = tokenized_datasets.remove_columns([\"text\"])\n",
    "tokenized_datasets = tokenized_datasets.rename_column(\"label\", \"labels\")\n",
    "tokenized_datasets.set_format(\"torch\")"
   ]
  },
  {
   "cell_type": "markdown",
   "id": "d66f3a96",
   "metadata": {},
   "source": [
    "## 🧠 Load Pre-trained Model\n",
    "We load a pre-trained DistilBERT model for sequence classification. The model head is adjusted for binary classification (2 labels)."
   ]
  },
  {
   "cell_type": "code",
   "execution_count": null,
   "id": "68d41387",
   "metadata": {},
   "outputs": [],
   "source": [
    "model = AutoModelForSequenceClassification.from_pretrained(checkpoint, num_labels=2)"
   ]
  },
  {
   "cell_type": "markdown",
   "id": "cafd02e7",
   "metadata": {},
   "source": [
    "## ⚙️ Configure Training Arguments\n",
    "`TrainingArguments` is a configuration class to customize the training process. You can set batch sizes, learning rate, evaluation strategy, logging, weight decay, and other parameters."
   ]
  },
  {
   "cell_type": "code",
   "execution_count": null,
   "id": "a25d1c6b",
   "metadata": {},
   "outputs": [],
   "source": [
    "training_args = TrainingArguments(\n",
    "    output_dir=\"./results\",                 # Where to store model checkpoints\n",
    "    evaluation_strategy=\"epoch\",            # Evaluate after every epoch\n",
    "    save_strategy=\"epoch\",                  # Save model after every epoch\n",
    "    learning_rate=2e-5,\n",
    "    per_device_train_batch_size=16,\n",
    "    per_device_eval_batch_size=16,\n",
    "    num_train_epochs=3,\n",
    "    weight_decay=0.01,                        # L2 regularization\n",
    "    logging_dir=\"./logs\",\n",
    "    logging_steps=10,\n",
    "    load_best_model_at_end=True              # Load best checkpoint (based on eval metric)\n",
    ")"
   ]
  },
  {
   "cell_type": "markdown",
   "id": "0d928206",
   "metadata": {},
   "source": [
    "## 🛠 Custom Optimizer and Learning Rate Scheduler\n",
    "Instead of using the default optimizer/scheduler, we define our own:\n",
    "- `AdamW` is a popular optimizer for transformers\n",
    "- `get_scheduler` allows for linear decay of the learning rate during training"
   ]
  },
  {
   "cell_type": "code",
   "execution_count": null,
   "id": "1b1edf19",
   "metadata": {},
   "outputs": [],
   "source": [
    "# Define custom optimizer\n",
    "optimizer = AdamW(model.parameters(), lr=training_args.learning_rate, weight_decay=training_args.weight_decay)\n",
    "\n",
    "# Setup learning rate scheduler\n",
    "num_training_steps = len(tokenized_datasets['train']) // training_args.per_device_train_batch_size * training_args.num_train_epochs\n",
    "lr_scheduler = get_scheduler(\n",
    "    name=\"linear\",\n",
    "    optimizer=optimizer,\n",
    "    num_warmup_steps=0,\n",
    "    num_training_steps=num_training_steps\n",
    ")"
   ]
  },
  {
   "cell_type": "markdown",
   "id": "d45efb9e",
   "metadata": {},
   "source": [
    "## 📏 Define Evaluation Metrics\n",
    "We use `accuracy` as the evaluation metric. The `compute_metrics` function will be called by the `Trainer` during evaluation."
   ]
  },
  {
   "cell_type": "code",
   "execution_count": null,
   "id": "104f82ed",
   "metadata": {},
   "outputs": [],
   "source": [
    "accuracy = evaluate.load(\"accuracy\")\n",
    "\n",
    "def compute_metrics(eval_pred):\n",
    "    logits, labels = eval_pred\n",
    "    predictions = np.argmax(logits, axis=-1)\n",
    "    return accuracy.compute(predictions=predictions, references=labels)"
   ]
  },
  {
   "cell_type": "markdown",
   "id": "347e313e",
   "metadata": {},
   "source": [
    "## 🧪 Define the Trainer\n",
    "The `Trainer` class handles the training loop, evaluation, and saving. You pass in the model, datasets, tokenizer, training arguments, metrics function, and optimizer/scheduler."
   ]
  },
  {
   "cell_type": "code",
   "execution_count": null,
   "id": "0d03a4e7",
   "metadata": {},
   "outputs": [],
   "source": [
    "trainer = Trainer(\n",
    "    model=model,\n",
    "    args=training_args,\n",
    "    train_dataset=tokenized_datasets[\"train\"].shuffle(seed=42).select(range(2000)),\n",
    "    eval_dataset=tokenized_datasets[\"test\"].select(range(1000)),\n",
    "    tokenizer=tokenizer,\n",
    "    compute_metrics=compute_metrics,\n",
    "    optimizers=(optimizer, lr_scheduler)\n",
    ")"
   ]
  },
  {
   "cell_type": "markdown",
   "id": "15e4d5b7",
   "metadata": {},
   "source": [
    "## 🚀 Train the Model\n",
    "We now train the model using the `train()` method of the `Trainer`."
   ]
  },
  {
   "cell_type": "code",
   "execution_count": null,
   "id": "f2e24fa0",
   "metadata": {},
   "outputs": [],
   "source": [
    "trainer.train()"
   ]
  },
  {
   "cell_type": "markdown",
   "id": "e4e410a1",
   "metadata": {},
   "source": [
    "## 📊 Evaluate the Model\n",
    "Use the `evaluate()` method to get performance metrics on the evaluation dataset."
   ]
  },
  {
   "cell_type": "code",
   "execution_count": null,
   "id": "933ea8a1",
   "metadata": {},
   "outputs": [],
   "source": [
    "trainer.evaluate()"
   ]
  },
  {
   "cell_type": "markdown",
   "id": "7a71d7a5",
   "metadata": {},
   "source": [
    "## 💾 Save the Fine-tuned Model\n",
    "After training, save the model to disk for later use or deployment."
   ]
  },
  {
   "cell_type": "code",
   "execution_count": null,
   "id": "1798afd8",
   "metadata": {},
   "outputs": [],
   "source": [
    "trainer.save_model(\"./fine-tuned-imdb\")"
   ]
  }
 ],
 "metadata": {},
 "nbformat": 4,
 "nbformat_minor": 5
}